{
  "nbformat": 4,
  "nbformat_minor": 0,
  "metadata": {
    "colab": {
      "name": "NumpyTesting.ipynb",
      "provenance": [],
      "authorship_tag": "ABX9TyMGdAh/zy32J379wzoRTJWU",
      "include_colab_link": true
    },
    "kernelspec": {
      "name": "python3",
      "display_name": "Python 3"
    },
    "language_info": {
      "name": "python"
    }
  },
  "cells": [
    {
      "cell_type": "markdown",
      "metadata": {
        "id": "view-in-github",
        "colab_type": "text"
      },
      "source": [
        "<a href=\"https://colab.research.google.com/github/clanmaster/HavProject1/blob/master/NumpyTesting.ipynb\" target=\"_parent\"><img src=\"https://colab.research.google.com/assets/colab-badge.svg\" alt=\"Open In Colab\"/></a>"
      ]
    },
    {
      "cell_type": "code",
      "source": [
        "import numpy as np\n",
        "arr = np.array([[1,2,3],[4,5,6]])\n",
        "for x in arr:\n",
        "  print(x)"
      ],
      "metadata": {
        "colab": {
          "base_uri": "https://localhost:8080/"
        },
        "id": "oy6D2PQVP5EP",
        "outputId": "81fbb959-26fc-4714-94ab-4976ad039417"
      },
      "execution_count": null,
      "outputs": [
        {
          "output_type": "stream",
          "name": "stdout",
          "text": [
            "[1 2 3]\n",
            "[4 5 6]\n"
          ]
        }
      ]
    },
    {
      "cell_type": "code",
      "execution_count": 3,
      "metadata": {
        "colab": {
          "base_uri": "https://localhost:8080/"
        },
        "id": "WLhwLX0zxKMw",
        "outputId": "a8a67459-286e-4f51-e394-c03f45ce93b5"
      },
      "outputs": [
        {
          "output_type": "stream",
          "name": "stdout",
          "text": [
            "[1 2 3]\n",
            "[[b'9.0' b'8.0' b'7.0']\n",
            " [b'6.0' b'5.0' b'4.0']]\n"
          ]
        }
      ],
      "source": [
        "import numpy as np\n",
        "\n",
        "a = np.array([1,2,3])\n",
        "print(a)\n",
        "\n",
        "b = np.array([[9.0,8.0,7.0],[6.0,5.0,4.0]], dtype=\"S\")\n",
        "print(b)\n",
        "b.sort()\n",
        "\n",
        "\n",
        "\n",
        "\n"
      ]
    },
    {
      "cell_type": "code",
      "source": [
        ""
      ],
      "metadata": {
        "id": "-RmdhXqaP8yb"
      },
      "execution_count": null,
      "outputs": []
    },
    {
      "cell_type": "code",
      "source": [
        "import numpy as np\n",
        "#arr = np.array([[[1,2],[3,4],[5,6],[7,8]]])\n",
        "#for x in np.nditer(arr):\n",
        "arr = np.array([[1,2,3,4,5],[6,7,8,9,10]])\n",
        "\n",
        "for x in np.nditer(arr[:, ::3]):\n",
        "  print(x)\n"
      ],
      "metadata": {
        "colab": {
          "base_uri": "https://localhost:8080/"
        },
        "id": "9LEgDVimPjpD",
        "outputId": "8a6bf92f-a686-4d40-dd59-883bde62c1a1"
      },
      "execution_count": null,
      "outputs": [
        {
          "output_type": "stream",
          "name": "stdout",
          "text": [
            "1\n",
            "4\n",
            "6\n",
            "9\n"
          ]
        }
      ]
    },
    {
      "cell_type": "markdown",
      "source": [
        "###This a test of numpy library\n"
      ],
      "metadata": {
        "id": "7NQOv7BS1bb8"
      }
    },
    {
      "cell_type": "code",
      "source": [
        "import numpy as np\n",
        "arr = np.array([[[[1,2,3,4],[5,6,7,8,],[9,10,11,12],[13,14,15,16,]]]])\n",
        "for idx, x in np.ndenumerate(arr):\n",
        "  \n",
        "  print(idx,x)"
      ],
      "metadata": {
        "colab": {
          "base_uri": "https://localhost:8080/"
        },
        "id": "Ph_wkxDzwqj1",
        "outputId": "df3afb8a-bd8a-430e-94e3-d32e885d4b15"
      },
      "execution_count": 4,
      "outputs": [
        {
          "output_type": "stream",
          "name": "stdout",
          "text": [
            "(0, 0, 0, 0) 1\n",
            "(0, 0, 0, 1) 2\n",
            "(0, 0, 0, 2) 3\n",
            "(0, 0, 0, 3) 4\n",
            "(0, 0, 1, 0) 5\n",
            "(0, 0, 1, 1) 6\n",
            "(0, 0, 1, 2) 7\n",
            "(0, 0, 1, 3) 8\n",
            "(0, 0, 2, 0) 9\n",
            "(0, 0, 2, 1) 10\n",
            "(0, 0, 2, 2) 11\n",
            "(0, 0, 2, 3) 12\n",
            "(0, 0, 3, 0) 13\n",
            "(0, 0, 3, 1) 14\n",
            "(0, 0, 3, 2) 15\n",
            "(0, 0, 3, 3) 16\n"
          ]
        }
      ]
    },
    {
      "cell_type": "markdown",
      "source": [
        "On going teachings of Numpy\n",
        "\n",
        "---\n",
        "\n",
        "\n",
        "\n",
        "---\n",
        "\n",
        "\n",
        "\n"
      ],
      "metadata": {
        "id": "o4ZWIRyya1c3"
      }
    },
    {
      "cell_type": "code",
      "source": [
        "import numpy as np\n",
        "a = np.ones([2,3])\n",
        "print(a)\n",
        "\n",
        "b = np.full((3,2),2)\n",
        "print (b)\n",
        "\n",
        "np.matmul(a,b)\n"
      ],
      "metadata": {
        "colab": {
          "base_uri": "https://localhost:8080/"
        },
        "id": "i4DD7HmoB7lp",
        "outputId": "9842075e-fedb-4a38-e352-637ca478e743"
      },
      "execution_count": null,
      "outputs": [
        {
          "output_type": "stream",
          "name": "stdout",
          "text": [
            "[[1. 1. 1.]\n",
            " [1. 1. 1.]]\n",
            "[[2 2]\n",
            " [2 2]\n",
            " [2 2]]\n"
          ]
        },
        {
          "output_type": "execute_result",
          "data": {
            "text/plain": [
              "array([[6., 6.],\n",
              "       [6., 6.]])"
            ]
          },
          "metadata": {},
          "execution_count": 1
        }
      ]
    },
    {
      "cell_type": "code",
      "source": [
        "stats = np.array([[1,2,3],[4,5,6]])\n",
        "stats\n",
        "\n"
      ],
      "metadata": {
        "colab": {
          "base_uri": "https://localhost:8080/"
        },
        "id": "Bxr-LWdD7qPk",
        "outputId": "c8a97b88-0119-45c1-8152-48984c336cb0"
      },
      "execution_count": null,
      "outputs": [
        {
          "output_type": "execute_result",
          "data": {
            "text/plain": [
              "array([[1, 2, 3],\n",
              "       [4, 5, 6]])"
            ]
          },
          "metadata": {},
          "execution_count": 4
        }
      ]
    },
    {
      "cell_type": "code",
      "source": [
        "import numpy as np\n",
        "\n",
        "v1 = np.array([[1,2,3]])\n",
        "v2 = np.array([[6,7,8]])\n",
        "\n",
        "arr = np.concatenate((v1,v2))\n",
        "print(arr)\n"
      ],
      "metadata": {
        "colab": {
          "base_uri": "https://localhost:8080/"
        },
        "id": "m7S55jqi8jTF",
        "outputId": "7d27a4b6-14b9-4ce8-ec0c-e331cfff2637"
      },
      "execution_count": null,
      "outputs": [
        {
          "output_type": "stream",
          "name": "stdout",
          "text": [
            "[[1 2 3]\n",
            " [6 7 8]]\n"
          ]
        }
      ]
    },
    {
      "cell_type": "code",
      "source": [
        "import numpy as np\n",
        "arr = np.array([[[1,2,3,4],[5,6,7,8],[9,10,11,12]]])#scaler, vector, matrix\n",
        "print(arr.shape)\n",
        "\n",
        "\n"
      ],
      "metadata": {
        "id": "WfC-DZYD9Yzv",
        "colab": {
          "base_uri": "https://localhost:8080/"
        },
        "outputId": "4c1cd9b8-44f3-49d6-e76a-34928ee5b9c9"
      },
      "execution_count": null,
      "outputs": [
        {
          "output_type": "stream",
          "name": "stdout",
          "text": [
            "(1, 3, 4)\n"
          ]
        }
      ]
    },
    {
      "cell_type": "code",
      "source": [
        "a = 0\n",
        "while a < 10:\n",
        "  if a %2 == 1:\n",
        "    print(str(a) + ' is odd')\n",
        "  else:\n",
        "    print(str(a) + ' is even')\n",
        "\n",
        "  a += 1"
      ],
      "metadata": {
        "id": "Qg2TdTTIJaqq",
        "colab": {
          "base_uri": "https://localhost:8080/"
        },
        "outputId": "a19ea274-2657-4079-aaf6-e7e43aa67df4"
      },
      "execution_count": null,
      "outputs": [
        {
          "output_type": "stream",
          "name": "stdout",
          "text": [
            "0 is even\n",
            "1 is odd\n",
            "2 is even\n",
            "3 is odd\n",
            "4 is even\n",
            "5 is odd\n",
            "6 is even\n",
            "7 is odd\n",
            "8 is even\n",
            "9 is odd\n"
          ]
        }
      ]
    },
    {
      "cell_type": "code",
      "source": [
        "import numpy as np\n",
        "arr = np.array([2,3,4,5,6,7,8,9,20])\n",
        "\n",
        "slickArr = np.array_split(arr,3)\n",
        "print(slickArr)\n"
      ],
      "metadata": {
        "colab": {
          "base_uri": "https://localhost:8080/"
        },
        "id": "_fguOVK9aSAA",
        "outputId": "c06d6799-2ba0-449d-ba36-b27155e209f4"
      },
      "execution_count": null,
      "outputs": [
        {
          "output_type": "stream",
          "name": "stdout",
          "text": [
            "[array([2, 3, 4]), array([5, 6, 7]), array([ 8,  9, 20])]\n"
          ]
        }
      ]
    },
    {
      "cell_type": "markdown",
      "source": [
        "##Misc code practice"
      ],
      "metadata": {
        "id": "b9uJLh8lY47U"
      }
    },
    {
      "cell_type": "code",
      "source": [
        "start = 4\n",
        "stop = 20###this variable needs to be larger then the start variable.\n",
        "step = 2\n",
        "xs = list(range(10))\n",
        "print(xs[start:stop:step])\n"
      ],
      "metadata": {
        "colab": {
          "base_uri": "https://localhost:8080/"
        },
        "id": "2CNWkEV6LYjN",
        "outputId": "bc018919-5103-47f8-899d-d5640ae07f80"
      },
      "execution_count": null,
      "outputs": [
        {
          "output_type": "stream",
          "name": "stdout",
          "text": [
            "[4, 6, 8]\n"
          ]
        }
      ]
    },
    {
      "cell_type": "code",
      "source": [
        "import numpy as np\n",
        "\n",
        "arr = np.array([50,55,56,57,58])\n",
        "filter_arr = []\n",
        "for element in arr:\n",
        "  if element > 65:\n",
        "    filter_arr.append(True)\n",
        "  else:\n",
        "    filter_arr.append(False)\n",
        "\n",
        "newarr = arr[filter_arr]\n",
        "\n",
        "print(filter_arr)\n",
        "print(newarr)\n"
      ],
      "metadata": {
        "colab": {
          "base_uri": "https://localhost:8080/"
        },
        "id": "aFItKz-FElvq",
        "outputId": "b5e8dcc1-3e81-437f-95b1-41f0112f6f65"
      },
      "execution_count": null,
      "outputs": [
        {
          "output_type": "stream",
          "name": "stdout",
          "text": [
            "[False, False, False, False, False]\n",
            "[]\n"
          ]
        }
      ]
    }
  ]
}